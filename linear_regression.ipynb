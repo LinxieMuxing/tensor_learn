{
 "cells": [
  {
   "cell_type": "code",
   "execution_count": 1,
   "metadata": {},
   "outputs": [],
   "source": [
    "from __future__ import absolute_import, division, print_function"
   ]
  },
  {
   "cell_type": "code",
   "execution_count": 2,
   "metadata": {},
   "outputs": [],
   "source": [
    "import tensorflow as tf\n",
    "import numpy as np\n",
    "rng = np.random"
   ]
  },
  {
   "cell_type": "code",
   "execution_count": 3,
   "metadata": {},
   "outputs": [],
   "source": [
    "# Parameters.\n",
    "learning_rate = 0.01\n",
    "training_steps = 1000\n",
    "display_step = 50"
   ]
  },
  {
   "cell_type": "code",
   "execution_count": 4,
   "metadata": {},
   "outputs": [],
   "source": [
    "# Training Data.\n",
    "X = np.array([3.3,4.4,5.5,6.71,6.93,4.168,9.779,6.182,7.59,2.167,\n",
    "              7.042,10.791,5.313,7.997,5.654,9.27,3.1])\n",
    "Y = np.array([1.7,2.76,2.09,3.19,1.694,1.573,3.366,2.596,2.53,1.221,\n",
    "              2.827,3.465,1.65,2.904,2.42,2.94,1.3])"
   ]
  },
  {
   "cell_type": "code",
   "execution_count": 6,
   "metadata": {},
   "outputs": [],
   "source": [
    "# Weight and Bias, initialized randomly.\n",
    "W = tf.Variable(rng.randn(), name=\"weight\")\n",
    "b = tf.Variable(rng.randn(), name=\"bias\")"
   ]
  },
  {
   "cell_type": "code",
   "execution_count": 8,
   "metadata": {},
   "outputs": [],
   "source": [
    "# Linear regression (Wx + b)\n",
    "def linear_regression(x):\n",
    "    return W * x + b;\n",
    "# Mean square error.\n",
    "def mean_square(y_pred, y_true):\n",
    "    return tf.reduce_mean(tf.square(y_pred - y_true))\n",
    "\n",
    "# Stochastic Gradient Decent Optimizer.\n",
    "optimizer = tf.optimizers.SGD(learning_rate)"
   ]
  },
  {
   "cell_type": "code",
   "execution_count": 9,
   "metadata": {},
   "outputs": [],
   "source": [
    "# Optimization process.\n",
    "def run_optimization():\n",
    "    with tf.GradientTape() as g:\n",
    "        pred = linear_regression(X)\n",
    "        loss = mean_square(pred, Y)\n",
    "    gradients = g.gradient(loss, [W, b])\n",
    "    \n",
    "    optimizer.apply_gradients(zip(gradients, [W, b]))"
   ]
  },
  {
   "cell_type": "code",
   "execution_count": 10,
   "metadata": {},
   "outputs": [
    {
     "name": "stdout",
     "output_type": "stream",
     "text": [
      "step: 50, loss: 0.350373, W: 0.429349, b: -0.461114\n",
      "step: 100, loss: 0.307970, W: 0.409012, b: -0.316935\n",
      "step: 150, loss: 0.274716, W: 0.391003, b: -0.189255\n",
      "step: 200, loss: 0.248638, W: 0.375054, b: -0.076186\n",
      "step: 250, loss: 0.228186, W: 0.360931, b: 0.023944\n",
      "step: 300, loss: 0.212148, W: 0.348423, b: 0.112616\n",
      "step: 350, loss: 0.199570, W: 0.337347, b: 0.191140\n",
      "step: 400, loss: 0.189707, W: 0.327539, b: 0.260678\n",
      "step: 450, loss: 0.181971, W: 0.318853, b: 0.322259\n",
      "step: 500, loss: 0.175905, W: 0.311160, b: 0.376792\n",
      "step: 550, loss: 0.171148, W: 0.304349, b: 0.425085\n",
      "step: 600, loss: 0.167417, W: 0.298316, b: 0.467852\n",
      "step: 650, loss: 0.164491, W: 0.292974, b: 0.505724\n",
      "step: 700, loss: 0.162197, W: 0.288244, b: 0.539263\n",
      "step: 750, loss: 0.160397, W: 0.284054, b: 0.568963\n",
      "step: 800, loss: 0.158986, W: 0.280344, b: 0.595265\n",
      "step: 850, loss: 0.157880, W: 0.277059, b: 0.618557\n",
      "step: 900, loss: 0.157012, W: 0.274149, b: 0.639184\n",
      "step: 950, loss: 0.156331, W: 0.271573, b: 0.657450\n",
      "step: 1000, loss: 0.155797, W: 0.269291, b: 0.673625\n"
     ]
    }
   ],
   "source": [
    "for step in range(1, training_steps + 1):\n",
    "    run_optimization()\n",
    "    \n",
    "    if(step % display_step == 0):\n",
    "        pred = linear_regression(X)\n",
    "        loss = mean_square(pred, Y)\n",
    "        print(\"step: %i, loss: %f, W: %f, b: %f\" % (step, loss, W.numpy(), b.numpy()))"
   ]
  },
  {
   "cell_type": "code",
   "execution_count": 11,
   "metadata": {},
   "outputs": [],
   "source": [
    "import matplotlib.pyplot as plt"
   ]
  },
  {
   "cell_type": "code",
   "execution_count": 12,
   "metadata": {},
   "outputs": [
    {
     "data": {
      "image/png": "[encoded data removed]",
      "text/plain": [
       "<Figure size 432x288 with 1 Axes>"
      ]
     },
     "metadata": {
      "needs_background": "light"
     },
     "output_type": "display_data"
    }
   ],
   "source": [
    "# Graphic display\n",
    "plt.plot(X, Y, 'ro', label='Original data')\n",
    "plt.plot(X, np.array(W * X + b), label='Fitted line')\n",
    "plt.legend()\n",
    "plt.show()"
   ]
  }
 ],
 "metadata": {
  "kernelspec": {
   "display_name": "Python 3",
   "language": "python",
   "name": "python3"
  },
  "language_info": {
   "codemirror_mode": {
    "name": "ipython",
    "version": 3
   },
   "file_extension": ".py",
   "mimetype": "text/x-python",
   "name": "python",
   "nbconvert_exporter": "python",
   "pygments_lexer": "ipython3",
   "version": "3.6.9"
  }
 },
 "nbformat": 4,
 "nbformat_minor": 4
}
